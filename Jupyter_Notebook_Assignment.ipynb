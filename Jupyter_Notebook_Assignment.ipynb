{
 "cells": [
  {
   "cell_type": "markdown",
   "metadata": {},
   "source": [
    "<center>\n",
    "    <img src=\"https://cf-courses-data.s3.us.cloud-object-storage.appdomain.cloud/IBMDeveloperSkillsNetwork-DS0105EN-SkillsNetwork/labs/Module2/images/SN_web_lightmode.png\" width=\"300\" alt=\"cognitiveclass.ai logo\">\n",
    "</center>\n"
   ]
  },
  {
   "cell_type": "markdown",
   "metadata": {},
   "source": [
    "#### Add your code below following the instructions given in the course\n"
   ]
  },
  {
   "cell_type": "markdown",
   "metadata": {},
   "source": [
    "Exercise 2 - Create a markdown cell with the title of the notebook. (1 pt)"
   ]
  },
  {
   "cell_type": "markdown",
   "metadata": {},
   "source": [
    "# My Jupyter Notebook on IBM Watson Studio"
   ]
  },
  {
   "cell_type": "markdown",
   "metadata": {},
   "source": [
    "\n",
    "\n",
    "__Adedayo Abiodun Adeboye__\n",
    "\n",
    "Inspired to be Renounce Data Scientist"
   ]
  },
  {
   "cell_type": "markdown",
   "metadata": {},
   "source": [
    "Exercise 3 - Create a markdown cell for an introduction. (1 pt)"
   ]
  },
  {
   "cell_type": "markdown",
   "metadata": {},
   "source": [
    "_I have over a decade of experience that has allowed me to show my analytical skills in supply chain management. Since I didn't know how powerful data is to understand any state of affairs, I've used my personal skills to solve problems._\n",
    "\n",
    "_The fact that I love solving problems and making intelligent decisions in critical situations motivated me to choose data science. I believe my curiosity coupled with an analytical mind could lead to asking many questions that may lead to means of gaining insight_ "
   ]
  },
  {
   "cell_type": "markdown",
   "metadata": {},
   "source": [
    "Exercise 4 - Create a markdown cell to list data science languages. (3 pts)"
   ]
  },
  {
   "cell_type": "markdown",
   "metadata": {},
   "source": [
    "### DATA SCIENCE LANGUAGES"
   ]
  },
  {
   "cell_type": "markdown",
   "metadata": {},
   "source": [
    "\n",
    "<dt>Commonly used data Science languages.</dt>\n",
    "\n",
    "* Jupyter Notebook\n",
    "* R\n",
    "* SQL\n",
    "\n",
    "<dt>Popular languages.</dt>\n",
    "\n",
    "* Scala\n",
    "* Java\n",
    "* C++\n",
    "* Julia \n",
    "\n",
    "<dt>Others languages.</dt>\n",
    "\n",
    "* Javascript\n",
    "* PHP\n",
    "* Go\n",
    "* Ruby"
   ]
  },
  {
   "cell_type": "markdown",
   "metadata": {},
   "source": [
    "Exercise 5 - Create a markdown cell to list data science libraries. (3 pts)"
   ]
  },
  {
   "cell_type": "markdown",
   "metadata": {},
   "source": [
    "### DATA SCIENCE LIBRARIES"
   ]
  },
  {
   "cell_type": "markdown",
   "metadata": {},
   "source": [
    "<dt>Computation and Data Structuring</dt>\n",
    "\n",
    "* Pandas\n",
    "* NumPy\n",
    "\n",
    "<dt>Visualization</dt>\n",
    "\n",
    "* Matplotlib\n",
    "* Seaborn\n",
    "\n",
    "<dt>Machine learn</dt>\n",
    "\n",
    "* Scikit_learn\n",
    "\n",
    "<dt>Deep Learn</dt>\n",
    "\n",
    "* Keras\n",
    "* TensorFlow\n",
    "* Apache\n",
    "* Pytorch"
   ]
  },
  {
   "cell_type": "markdown",
   "metadata": {},
   "source": [
    "Exercise 6 - Create a markdown cell with a table of Data Science tools. (3 pts)"
   ]
  },
  {
   "cell_type": "markdown",
   "metadata": {},
   "source": [
    "### DATA SCIENCE TOOLS"
   ]
  },
  {
   "cell_type": "markdown",
   "metadata": {},
   "source": [
    "  | | Open Source Tools  | Commercial Source Tools   | Cloud Based Tools                | \n",
    "|---:|:------------------|:---------------------------|:--------------------------------|\n",
    "| 1 | MySQL              | Tableau                    | Microsoft Azure Machine Learning| \n",
    "| 2 | PostgreSQL         | Microsoft Power BI         | H2O Driverless AI               | \n",
    "| 3 | MongoDB            | IBM                        | Amazon Web Services DynamoDB    | \n",
    "| 4 | Apache CouchDB     | Cognos Analytics           | Cloudan                         | \n",
    "| 5 | Apache Cassandra   | H2O Driverless AI          | IBM                             | \n",
    "| 1 | Apache AirFlow     |---                         | DataMeer                        | \n",
    "| 2 | Apache Kafka       |---                         | Google                          | \n",
    "| 3 | Apache Nifi        |--                          | ---                             | \n",
    "| 4 | Apache Kafka       |---                         | ---                             | \n",
    "| 5 | NodeRED            |---                         | ---                             |  \n",
    "\n",
    "\n",
    "\n",
    "  "
   ]
  },
  {
   "cell_type": "markdown",
   "metadata": {},
   "source": [
    "Exercise 7 - Create a markdown cell introducing arithmetic expression examples. (1 pt)"
   ]
  },
  {
   "cell_type": "markdown",
   "metadata": {},
   "source": [
    "Here I am about to perform some arithmetic operation in Jupyter notebook"
   ]
  },
  {
   "cell_type": "code",
   "execution_count": 1,
   "metadata": {},
   "outputs": [
    {
     "data": {
      "text/plain": [
       "22"
      ]
     },
     "execution_count": 1,
     "metadata": {},
     "output_type": "execute_result"
    }
   ],
   "source": [
    "# Exercise 8 - Create a code cell to multiply and add numbers.(2 pts)\n",
    "6*2+10"
   ]
  },
  {
   "cell_type": "code",
   "execution_count": 2,
   "metadata": {},
   "outputs": [
    {
     "name": "stdout",
     "output_type": "stream",
     "text": [
      "The minutes convertion of 1000 is 16.666666666666668 hrs\n"
     ]
    }
   ],
   "source": [
    "# Exercise 9 - Create a code cell to convert minutes to hours. (2 pts)\n",
    "\n",
    "\n",
    "def convert(Minutes):\n",
    "    Hours = Minutes/60\n",
    "    return Hours\n",
    "\n",
    "mins = 1000\n",
    "print(\"The minutes convertion of\", mins , \"is\" , convert(mins),\"hrs\")\n"
   ]
  },
  {
   "cell_type": "markdown",
   "metadata": {},
   "source": [
    "Exercise 10 -Insert a markdown cell to list Objectives. (3 pts)"
   ]
  },
  {
   "cell_type": "markdown",
   "metadata": {},
   "source": [
    "Exercise 11 - Create a markdown cell to indicate the Author’s name. (2 pts)"
   ]
  },
  {
   "cell_type": "markdown",
   "metadata": {},
   "source": [
    " ##  Author’s name.\n",
    " \n",
    " ### Adedayo Abiodun Adeboye"
   ]
  }
 ],
 "metadata": {
  "kernelspec": {
   "display_name": "Python",
   "language": "python",
   "name": "conda-env-python-py"
  },
  "language_info": {
   "codemirror_mode": {
    "name": "ipython",
    "version": 3
   },
   "file_extension": ".py",
   "mimetype": "text/x-python",
   "name": "python",
   "nbconvert_exporter": "python",
   "pygments_lexer": "ipython3",
   "version": "3.7.12"
  }
 },
 "nbformat": 4,
 "nbformat_minor": 4
}
